{
 "cells": [
  {
   "cell_type": "code",
   "execution_count": null,
   "id": "f54bb642",
   "metadata": {},
   "outputs": [],
   "source": [
    "%config Completer.use_jedi = False"
   ]
  },
  {
   "cell_type": "markdown",
   "id": "92a5ca24",
   "metadata": {
    "slideshow": {
     "slide_type": "slide"
    },
    "tags": []
   },
   "source": [
    "# Introduction to Python"
   ]
  },
  {
   "cell_type": "markdown",
   "id": "2b90a5ff",
   "metadata": {
    "slideshow": {
     "slide_type": "slide"
    }
   },
   "source": [
    "## Agenda\n",
    "\n",
    "* Data types, converting between data types, basic arithmetic\n",
    "* Data structures – tuples, lists, dictionaries\n",
    "* Conditionals, loops, list comprehensions\n",
    "* Functions\n",
    "* Libraries and importing functions\n",
    "* File I/O\n",
    "* Exercises\n"
   ]
  },
  {
   "cell_type": "markdown",
   "id": "95c9406b",
   "metadata": {
    "slideshow": {
     "slide_type": "slide"
    }
   },
   "source": [
    "### Comments\n",
    "\n",
    "Anything after a # until the end of the line is treated as a 'comment' and is not executed.\n",
    "\n",
    "Useful (must) for describing what you are trying to do in your code."
   ]
  },
  {
   "cell_type": "code",
   "execution_count": 1,
   "id": "00ad9a7e",
   "metadata": {
    "slideshow": {
     "slide_type": "fragment"
    }
   },
   "outputs": [
    {
     "name": "stdout",
     "output_type": "stream",
     "text": [
      "25\n"
     ]
    }
   ],
   "source": [
    "print(25) # print the number 25"
   ]
  },
  {
   "cell_type": "markdown",
   "id": "7bb165a5",
   "metadata": {
    "jp-MarkdownHeadingCollapsed": true,
    "slideshow": {
     "slide_type": "slide"
    }
   },
   "source": [
    "### Variables and Data types\n",
    "\n",
    "Variables\n",
    "   * Variables are containers for storing data values.\n",
    "   * Variables need not be declared.\n",
    "   * A variable is created the moment you first assign a value to it.\n",
    "\n",
    "Data Types\n",
    "   * Integer (1, 2, ...)\n",
    "   * Float (1.5, 2.3, ...)\n",
    "   * Strings - arbitrary text - single line and multi-line\n",
    "   * Boolean"
   ]
  },
  {
   "cell_type": "markdown",
   "id": "467b6292",
   "metadata": {
    "slideshow": {
     "slide_type": "slide"
    }
   },
   "source": [
    "### Variable Names\n",
    "\n",
    "A variable can have a short name (like x and y) or a more descriptive name (age, carname, total_volume).\n",
    "\n",
    "Rules for Python variables:\n",
    "* A variable name must start with a letter or the underscore character\n",
    "* A variable name cannot start with a number\n",
    "* A variable name can only contain alpha-numeric characters and underscores (A-z, 0-9, and _ )\n",
    "* Variable names are case-sensitive (age, Age and AGE are three different variables)\n",
    "* A variable name cannot be any of the Python keywords."
   ]
  },
  {
   "cell_type": "code",
   "execution_count": null,
   "id": "b8b26254",
   "metadata": {
    "slideshow": {
     "slide_type": "slide"
    }
   },
   "outputs": [],
   "source": [
    "# How do we find out the type of a variable?\n",
    "# Create a variable and find out its type.\n",
    "# Casting\n",
    "\n",
    "age = 20\n",
    "new_age = float(age)\n",
    "print(type(new_age))\n",
    "new_age"
   ]
  },
  {
   "cell_type": "markdown",
   "id": "1a939601",
   "metadata": {
    "slideshow": {
     "slide_type": "slide"
    }
   },
   "source": [
    "### Arithmetic Operators\n",
    "\n",
    "* The usual operators: ```+ - * /```\n",
    "* Power: ```**```\n",
    "* Remainder: ```%```\n",
    "\n",
    "* Difference between ```=``` and ```==```"
   ]
  },
  {
   "cell_type": "code",
   "execution_count": null,
   "id": "8ff6a748",
   "metadata": {
    "slideshow": {
     "slide_type": "slide"
    }
   },
   "outputs": [],
   "source": [
    "# Show arithmetic operations\n"
   ]
  },
  {
   "cell_type": "markdown",
   "id": "50f35e35",
   "metadata": {
    "slideshow": {
     "slide_type": "slide"
    }
   },
   "source": [
    "### Exercise\n",
    "\n",
    "1. Assign values to variables x and y.\n",
    "1. Add x and y.\n",
    "1. To this result, add x again.\n",
    "1. Print the final result"
   ]
  },
  {
   "cell_type": "code",
   "execution_count": null,
   "id": "b92a7dc3",
   "metadata": {
    "slideshow": {
     "slide_type": "slide"
    }
   },
   "outputs": [],
   "source": [
    "x = 4\n",
    "y = 6\n",
    "result = x + y\n",
    "result = result + x\n",
    "print(result)"
   ]
  },
  {
   "cell_type": "markdown",
   "id": "b3c25ff7",
   "metadata": {
    "slideshow": {
     "slide_type": "slide"
    }
   },
   "source": [
    "### Exercise\n",
    "\n",
    "The equation for linear regression is $y = a + bx$. Given values of $a=10, b=2$ and $y=21.39$, find the value of $x$. \n",
    "\n"
   ]
  },
  {
   "cell_type": "code",
   "execution_count": null,
   "id": "19ef43da",
   "metadata": {
    "slideshow": {
     "slide_type": "slide"
    }
   },
   "outputs": [],
   "source": [
    "a = 10\n",
    "b = 2\n",
    "y = 21.39\n",
    "x = (y - a)/b\n",
    "print(x)"
   ]
  },
  {
   "cell_type": "markdown",
   "id": "7133950a",
   "metadata": {
    "slideshow": {
     "slide_type": "slide"
    }
   },
   "source": [
    "Print the value of $x$ to two decimal places."
   ]
  },
  {
   "cell_type": "code",
   "execution_count": null,
   "id": "ee798d42",
   "metadata": {
    "slideshow": {
     "slide_type": "slide"
    }
   },
   "outputs": [],
   "source": [
    "# Format strings\n",
    "# print(\"The value of x is {:.2f}\".format(x))\n",
    "print(\"The value of x is {:.2f}.\".format(x))"
   ]
  },
  {
   "cell_type": "markdown",
   "id": "f199096d",
   "metadata": {
    "slideshow": {
     "slide_type": "slide"
    }
   },
   "source": [
    "### Data structures\n",
    "\n",
    "* Tuples - immutable, can hold mixed data\n",
    "* Lists - mutable, can hold mixed data\n",
    "* Sets - no duplicates\n",
    "* Membership operator 'in'\n",
    "\n",
    "\n",
    "* Dictionaries - key-value pairs"
   ]
  },
  {
   "cell_type": "code",
   "execution_count": null,
   "id": "df871e98",
   "metadata": {
    "slideshow": {
     "slide_type": "slide"
    }
   },
   "outputs": [],
   "source": [
    "## Create data structures\n",
    "\n",
    "student_ages = {'shiva':{'maths':70, 'english':85, 'science':65}, 'khushi': 99, 'xyz':25}\n",
    "student_ages['shiva']['english']\n",
    "student_ages['shiva'] = 100\n",
    "student_ages"
   ]
  },
  {
   "cell_type": "markdown",
   "id": "b91c2345",
   "metadata": {
    "slideshow": {
     "slide_type": "slide"
    }
   },
   "source": [
    "### Exercise\n",
    "\n",
    "* Create a list containing the names of cities: Ahmedabad, Mumbai, Delhi\n",
    "* Add one more element, Gandhinagar, to the end of the list\n",
    "* Print the new list\n",
    "* Find and print the second and third element of the list\n",
    "* Print the last element of the list"
   ]
  },
  {
   "cell_type": "code",
   "execution_count": null,
   "id": "a7a35056",
   "metadata": {
    "slideshow": {
     "slide_type": "slide"
    }
   },
   "outputs": [],
   "source": [
    "cities = [\"Ahmedabad\", \"Mumbai\", \"Delhi\"]\n",
    "cities.append(\"Gandhinagar\")\n",
    "print(cities[-1])"
   ]
  },
  {
   "cell_type": "markdown",
   "id": "75e63ebf",
   "metadata": {
    "slideshow": {
     "slide_type": "slide"
    }
   },
   "source": [
    "### Conditions\n",
    "\n",
    "* The importance of **indentation**\n",
    "    - Indentation indicates 'blocks' of code\n",
    "\n",
    "* True/False and logical operators\n",
    "\n",
    "* if\n",
    "* elif\n",
    "* else"
   ]
  },
  {
   "cell_type": "code",
   "execution_count": null,
   "id": "60aaaea3",
   "metadata": {
    "slideshow": {
     "slide_type": "slide"
    }
   },
   "outputs": [],
   "source": [
    "age = 65\n",
    "\n",
    "if ((age > 18) and (age <= 65)):\n",
    "    print(\"adult\")\n",
    "elif (age > 65):\n",
    "    print(\"senior\")\n",
    "else:\n",
    "    print(\"child\")"
   ]
  },
  {
   "cell_type": "code",
   "execution_count": null,
   "id": "870d7485",
   "metadata": {
    "slideshow": {
     "slide_type": "skip"
    }
   },
   "outputs": [],
   "source": [
    "# match-case\n",
    "\n",
    "# This requires Python 3.10 or higher\n",
    "\n",
    "# a = 10\n",
    "\n",
    "# match a:\n",
    "#     case 1:\n",
    "#         print('one')\n",
    "#     case 2:\n",
    "#         print('two')\n",
    "#     case _:\n",
    "#         print('other')"
   ]
  },
  {
   "cell_type": "markdown",
   "id": "72fa6f25",
   "metadata": {
    "slideshow": {
     "slide_type": "slide"
    }
   },
   "source": [
    "### Looping\n",
    "\n",
    "* range(start, stop, steps)\n",
    "* for\n",
    "* while\n",
    "* list comprehensions"
   ]
  },
  {
   "cell_type": "code",
   "execution_count": null,
   "id": "9285c30d",
   "metadata": {
    "slideshow": {
     "slide_type": "slide"
    }
   },
   "outputs": [],
   "source": [
    "for i in range(5):\n",
    "    print(i)\n",
    "\n",
    "x = 5\n",
    "while x < 10:\n",
    "    print(x)\n",
    "    x = x + 1"
   ]
  },
  {
   "cell_type": "markdown",
   "id": "09d0dbfa",
   "metadata": {
    "slideshow": {
     "slide_type": "slide"
    }
   },
   "source": [
    "### Exercise\n",
    "\n",
    "Prompt the user to enter three numbers and print the average of the three values."
   ]
  },
  {
   "cell_type": "code",
   "execution_count": null,
   "id": "d54a93de",
   "metadata": {
    "slideshow": {
     "slide_type": "slide"
    }
   },
   "outputs": [],
   "source": [
    "str_number = input(\"Enter three numbers: \")\n",
    "\n",
    "# Catch errors - check whether numeric values have been entered\n",
    "try:\n",
    "    number_list = [int(i) for i in str_number.split()]\n",
    "except:\n",
    "    print(\"The values you have entered are not numeric. Exiting.\")\n",
    "    exit(0)\n",
    "\n",
    "# Check whether three numbers have been entered\n",
    "if (len(number_list) != 3):\n",
    "    print(\"You did not enter three numbers. Exiting.\")\n",
    "    exit(0)\n",
    "else:\n",
    "    result = sum(number_list)/3.0\n",
    "    print(\"The average of the three numbers is {:0.2f}\".format(result))"
   ]
  },
  {
   "cell_type": "markdown",
   "id": "d080e470",
   "metadata": {
    "slideshow": {
     "slide_type": "slide"
    }
   },
   "source": [
    "### Exercise\n",
    "\n",
    "Write a short program that prints each number from 1 to 100 on a new line. \n",
    "\n",
    "For each multiple of 3, print \"Fizz\" instead of the number. \n",
    "\n",
    "For each multiple of 5, print \"Buzz\" instead of the number. \n",
    "\n",
    "For numbers which are multiples of both 3 and 5, print \"FizzBuzz\" instead of the number."
   ]
  },
  {
   "cell_type": "code",
   "execution_count": null,
   "id": "10ece9ab",
   "metadata": {
    "slideshow": {
     "slide_type": "slide"
    }
   },
   "outputs": [],
   "source": [
    "for i in range(1, 201):\n",
    "    if (i % 3 == 0 and i % 5 == 0): # or simply check if (i % 15 == 0)\n",
    "        print(i, \"FizzBuzz\")\n",
    "    elif (i % 3 == 0):\n",
    "        print(i, \"Fizz\")\n",
    "    elif (i % 5 == 0):\n",
    "        print(i, \"Buzz\")\n",
    "    else:\n",
    "        print(i)"
   ]
  },
  {
   "cell_type": "markdown",
   "id": "04c80edf",
   "metadata": {
    "slideshow": {
     "slide_type": "slide"
    }
   },
   "source": [
    "### Functions\n",
    "\n",
    "A function is a block of code which only runs when it is called.\n",
    "\n",
    "You can pass data, known as parameters, into a function.\n",
    "\n",
    "A function can return data as a result.\n",
    "\n",
    "Defined using the def keyword.\n",
    "\n",
    "To call a function, use the function name followed by parentheses."
   ]
  },
  {
   "cell_type": "code",
   "execution_count": null,
   "id": "22ec1cdc",
   "metadata": {
    "slideshow": {
     "slide_type": "subslide"
    }
   },
   "outputs": [],
   "source": [
    "def my_max_function(x, y):\n",
    "    if x > y:\n",
    "        return x\n",
    "    else:\n",
    "        return y\n",
    "    \n",
    "my_max_function(10, 3)"
   ]
  },
  {
   "cell_type": "markdown",
   "id": "165a027b",
   "metadata": {
    "slideshow": {
     "slide_type": "slide"
    }
   },
   "source": [
    "### Exercise\n",
    "\n",
    "Create a function named sum_list which takes a list of values as an input and returns the sum of the elements in the list.\n",
    "Call the function with some sample values to check the correctness of the result.\n",
    "\n",
    "Will the function work with a tuple instead of a list?"
   ]
  },
  {
   "cell_type": "code",
   "execution_count": null,
   "id": "4ed6e74f",
   "metadata": {
    "slideshow": {
     "slide_type": "subslide"
    }
   },
   "outputs": [],
   "source": [
    "def sum_list(input_list):\n",
    "    sum = 0\n",
    "    for val in input_list:\n",
    "        sum = sum + val\n",
    "    return sum\n",
    "\n",
    "# if there is an error, correct it\n",
    "sum_list(10, 20, 30)"
   ]
  },
  {
   "cell_type": "markdown",
   "id": "96bfc88b",
   "metadata": {
    "slideshow": {
     "slide_type": "slide"
    }
   },
   "source": [
    "### File I/O\n",
    "\n",
    "Files must be opened using the open() function before they can be used. The open() function takes two parameters: filename, and mode.\n",
    "\n",
    "There are four different methods (modes) for opening a file:\n",
    "* \"r\" - Read - Default value. Opens a file for reading, error if the file does not exist\n",
    "* \"a\" - Append - Opens a file for appending, creates the file if it does not exist\n",
    "* \"w\" - Write - Opens a file for writing, creates the file if it does not exist\n",
    "* \"x\" - Create - Creates the specified file, returns an error if the file exists\n",
    "\n"
   ]
  },
  {
   "cell_type": "markdown",
   "id": "f6cb2bd0",
   "metadata": {
    "slideshow": {
     "slide_type": "slide"
    }
   },
   "source": [
    "```\n",
    "# Open a file and read from it.\n",
    "f = open(\"demofile.txt\", \"r\")\n",
    "print(f.read())\n",
    "f.close()\n",
    "\n",
    "# Open a file and write to it.\n",
    "f = open(\"demofile2.txt\", \"a\")\n",
    "f.write(\"Now the file has more content!\")\n",
    "f.close()\n",
    "```"
   ]
  },
  {
   "cell_type": "markdown",
   "id": "daecf8f3",
   "metadata": {
    "slideshow": {
     "slide_type": "slide"
    }
   },
   "source": [
    "### Libraries and importing functions\n",
    "\n",
    "* No need to reinvent the wheel\n",
    "* There will probably be a package for anything that you can think of\n",
    "* Libraries can be found on PyPi\n",
    "* Install using ```pip```"
   ]
  },
  {
   "cell_type": "code",
   "execution_count": null,
   "id": "537a2dec",
   "metadata": {
    "slideshow": {
     "slide_type": "fragment"
    }
   },
   "outputs": [],
   "source": [
    "import sys\n",
    "sys.version"
   ]
  },
  {
   "cell_type": "markdown",
   "id": "db3542e9",
   "metadata": {
    "slideshow": {
     "slide_type": "slide"
    }
   },
   "source": [
    "### Some useful libraries\n",
    "\n",
    "* math, string, etc.\n",
    "\n",
    "* Dataframes: pandas, polars, dfply\n",
    "* Plotting and visualization: matplotlib, seaborn, plotnine, etc.\n",
    "* Statistics: statsmodels, scikit-learn, networkx, etc."
   ]
  }
 ],
 "metadata": {
  "celltoolbar": "Slideshow",
  "kernelspec": {
   "display_name": "Python 3 (ipykernel)",
   "language": "python",
   "name": "python3"
  },
  "language_info": {
   "codemirror_mode": {
    "name": "ipython",
    "version": 3
   },
   "file_extension": ".py",
   "mimetype": "text/x-python",
   "name": "python",
   "nbconvert_exporter": "python",
   "pygments_lexer": "ipython3",
   "version": "3.12.1"
  }
 },
 "nbformat": 4,
 "nbformat_minor": 5
}
